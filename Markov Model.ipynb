{
 "cells": [
  {
   "cell_type": "markdown",
   "id": "50fcd64c",
   "metadata": {},
   "source": [
    "### Markov Model"
   ]
  },
  {
   "cell_type": "code",
   "execution_count": 2,
   "id": "c23831b7",
   "metadata": {},
   "outputs": [
    {
     "name": "stdout",
     "output_type": "stream",
     "text": [
      "initial state distribution:\n",
      "8 0.10152591025834719\n",
      "2 0.09507982071813466\n",
      "5 0.09779926474291183\n",
      "9 0.10384247368686106\n",
      "0 0.10298635241980159\n",
      "6 0.09800070504104345\n",
      "7 0.09971294757516241\n",
      "1 0.10348995316513068\n",
      "4 0.10243239159993957\n",
      "3 0.09513018079266758\n",
      "bounce rate for 1: 0.125939617991374\n",
      "bounce rate for 2: 0.12649551345962112\n",
      "bounce rate for 8: 0.12529550827423167\n",
      "bounce rate for 6: 0.1208153180975911\n",
      "bounce rate for 7: 0.12371650388179314\n",
      "bounce rate for 3: 0.12743384922616077\n",
      "bounce rate for 4: 0.1255756067205974\n",
      "bounce rate for 5: 0.12369559684398065\n",
      "bounce rate for 0: 0.1279673590504451\n",
      "bounce rate for 9: 0.13176232104396302\n"
     ]
    }
   ],
   "source": [
    "transitions = {}\n",
    "row_sums = {}\n",
    "\n",
    "# collect counts\n",
    "for line in open('site_data.csv'):\n",
    "    s, e = line.rstrip().split(',')\n",
    "    transitions[(s, e)] = transitions.get((s, e), 0.) + 1\n",
    "    row_sums[s] = row_sums.get(s, 0.) + 1\n",
    "\n",
    "# normalize\n",
    "for k, v in transitions.items():\n",
    "    s, e = k\n",
    "    transitions[k] = v / row_sums[s]\n",
    "\n",
    "# initial state distribution\n",
    "print (\"initial state distribution:\")\n",
    "for k, v in transitions.items():\n",
    "    s, e = k\n",
    "    if s == '-1':\n",
    "        print (e, v)\n",
    "\n",
    "# which page has the highest bounce?\n",
    "for k, v in transitions.items():\n",
    "    s, e = k\n",
    "    if e == 'B':\n",
    "        print (f\"bounce rate for {s}: {v}\")\n"
   ]
  },
  {
   "cell_type": "code",
   "execution_count": null,
   "id": "b9a5a84a",
   "metadata": {},
   "outputs": [],
   "source": []
  }
 ],
 "metadata": {
  "kernelspec": {
   "display_name": "Python 3",
   "language": "python",
   "name": "python3"
  },
  "language_info": {
   "codemirror_mode": {
    "name": "ipython",
    "version": 3
   },
   "file_extension": ".py",
   "mimetype": "text/x-python",
   "name": "python",
   "nbconvert_exporter": "python",
   "pygments_lexer": "ipython3",
   "version": "3.9.2"
  }
 },
 "nbformat": 4,
 "nbformat_minor": 5
}
