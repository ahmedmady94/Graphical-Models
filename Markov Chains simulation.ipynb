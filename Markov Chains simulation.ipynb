{
 "cells": [
  {
   "cell_type": "code",
   "execution_count": 109,
   "id": "a3ae6cb8",
   "metadata": {},
   "outputs": [],
   "source": [
    "import numpy as np\n",
    "import scipy.linalg as sp"
   ]
  },
  {
   "cell_type": "code",
   "execution_count": 2,
   "id": "29dc29ca",
   "metadata": {},
   "outputs": [
    {
     "data": {
      "text/plain": [
       "{0: 'Burger', 1: 'Pizza', 2: 'Hotdog'}"
      ]
     },
     "execution_count": 2,
     "metadata": {},
     "output_type": "execute_result"
    }
   ],
   "source": [
    "state = {\n",
    "    0 : \"Burger\",\n",
    "    1 : \"Pizza\",\n",
    "    2 : \"Hotdog\"\n",
    "}\n",
    "state"
   ]
  },
  {
   "cell_type": "code",
   "execution_count": 3,
   "id": "671a06a4",
   "metadata": {},
   "outputs": [
    {
     "data": {
      "text/plain": [
       "array([[0.2, 0.6, 0.2],\n",
       "       [0.3, 0. , 0.7],\n",
       "       [0.5, 0. , 0.5]])"
      ]
     },
     "execution_count": 3,
     "metadata": {},
     "output_type": "execute_result"
    }
   ],
   "source": [
    "A = np.array([[0.2, 0.6, 0.2], [0.3, 0.0, 0.7], [0.5, 0.0, 0.5]])\n",
    "A"
   ]
  },
  {
   "cell_type": "markdown",
   "id": "84374e0f",
   "metadata": {},
   "source": [
    "### Simulating random walk"
   ]
  },
  {
   "cell_type": "code",
   "execution_count": 40,
   "id": "1cfa4c14",
   "metadata": {},
   "outputs": [],
   "source": [
    "def sim(current_state,m,n):\n",
    "    print(state[current_state],\"--->\",end=' ')\n",
    "    while n>1:\n",
    "        current_state= np.random.choice(list(state.keys()),p= m[current_state])\n",
    "        print(state[current_state],\"--->\",end=\" \")\n",
    "        n-=1\n",
    "    print(\"stop\")"
   ]
  },
  {
   "cell_type": "code",
   "execution_count": 41,
   "id": "8d1b9535",
   "metadata": {},
   "outputs": [
    {
     "name": "stdout",
     "output_type": "stream",
     "text": [
      "Burger ---> Burger ---> Burger ---> Burger ---> Burger ---> Hotdog ---> Hotdog ---> Hotdog ---> Burger ---> Hotdog ---> Burger ---> Burger ---> Pizza ---> Hotdog ---> Burger ---> Pizza ---> Burger ---> Pizza ---> Hotdog ---> Hotdog ---> stop\n"
     ]
    }
   ],
   "source": [
    "sim(0,A,20)"
   ]
  },
  {
   "cell_type": "markdown",
   "id": "f467fd28",
   "metadata": {},
   "source": [
    "### Getting stationary distribution (π) using Monte Carlo approach"
   ]
  },
  {
   "cell_type": "code",
   "execution_count": 123,
   "id": "a4690586",
   "metadata": {},
   "outputs": [],
   "source": [
    "def get_pi(current_state,m,n):\n",
    "    d={}\n",
    "    d[current_state]= d.get(current_state,0)+1\n",
    "    while n>1:\n",
    "        current_state= np.random.choice(list(state.keys()),p= m[current_state])\n",
    "        d[current_state]= d.get(current_state,0)+1\n",
    "        n-=1\n",
    "    return([i/sum(d.values()) for i in d.values()])"
   ]
  },
  {
   "cell_type": "code",
   "execution_count": 127,
   "id": "42b7a634",
   "metadata": {},
   "outputs": [
    {
     "data": {
      "text/plain": [
       "[0.351844, 0.211152, 0.437004]"
      ]
     },
     "execution_count": 127,
     "metadata": {},
     "output_type": "execute_result"
    }
   ],
   "source": [
    "get_pi(0,A,10**6)"
   ]
  },
  {
   "cell_type": "code",
   "execution_count": 128,
   "id": "cef7a650",
   "metadata": {},
   "outputs": [],
   "source": [
    "pi= get_pi(0,A,10**6)"
   ]
  },
  {
   "cell_type": "markdown",
   "id": "be16132c",
   "metadata": {},
   "source": [
    "### Getting stationary distribution (π) using matrix multiplication"
   ]
  },
  {
   "cell_type": "code",
   "execution_count": 93,
   "id": "630a0669",
   "metadata": {},
   "outputs": [],
   "source": [
    "def get_pi(m,n):\n",
    "    while n>0:\n",
    "        m = m @ m\n",
    "        n-=1\n",
    "    print(m)"
   ]
  },
  {
   "cell_type": "code",
   "execution_count": 98,
   "id": "6de905bb",
   "metadata": {},
   "outputs": [
    {
     "name": "stdout",
     "output_type": "stream",
     "text": [
      "[[0.35211268 0.21126761 0.43661972]\n",
      " [0.35211268 0.21126761 0.43661972]\n",
      " [0.35211268 0.21126761 0.43661972]]\n"
     ]
    }
   ],
   "source": [
    "get_pi(A,5)"
   ]
  },
  {
   "cell_type": "markdown",
   "id": "35d847e1",
   "metadata": {},
   "source": [
    "### Getting stationary distribution (π) using left eigen vectors"
   ]
  },
  {
   "cell_type": "code",
   "execution_count": 114,
   "id": "c0ea27d1",
   "metadata": {},
   "outputs": [],
   "source": [
    "value,vector = sp.eig(A,right=False,left=True)"
   ]
  },
  {
   "cell_type": "code",
   "execution_count": 117,
   "id": "d2f944c4",
   "metadata": {},
   "outputs": [
    {
     "name": "stdout",
     "output_type": "stream",
     "text": [
      "[[-0.58746336+0.j         -0.16984156-0.35355339j -0.16984156+0.35355339j]\n",
      " [-0.35247801+0.j          0.67936622+0.j          0.67936622-0.j        ]\n",
      " [-0.72845456+0.j         -0.50952467+0.35355339j -0.50952467-0.35355339j]]\n"
     ]
    }
   ],
   "source": [
    "print(vector)"
   ]
  },
  {
   "cell_type": "code",
   "execution_count": 129,
   "id": "cc26d71a",
   "metadata": {},
   "outputs": [
    {
     "data": {
      "text/plain": [
       "array([-0.58746336+0.j, -0.35247801+0.j, -0.72845456+0.j])"
      ]
     },
     "execution_count": 129,
     "metadata": {},
     "output_type": "execute_result"
    }
   ],
   "source": [
    "left= vector[:,0]\n",
    "left"
   ]
  },
  {
   "cell_type": "code",
   "execution_count": 130,
   "id": "3a2e4a5a",
   "metadata": {},
   "outputs": [
    {
     "data": {
      "text/plain": [
       "[0.352112676056338, 0.21126760563380279, 0.43661971830985913]"
      ]
     },
     "execution_count": 130,
     "metadata": {},
     "output_type": "execute_result"
    }
   ],
   "source": [
    "pi_normalized = [(i/sum(left)).real for i in left]\n",
    "pi_normalized"
   ]
  },
  {
   "cell_type": "markdown",
   "id": "f700f29d",
   "metadata": {},
   "source": [
    "### Getting the probability of specific sequence"
   ]
  },
  {
   "cell_type": "code",
   "execution_count": 148,
   "id": "a2fb9dac",
   "metadata": {},
   "outputs": [],
   "source": [
    "def get_proba(sequence,m,pi):\n",
    "    prob=pi[sequence[0]]\n",
    "    for i in range(1,len(sequence)):\n",
    "            prob = prob* m[sequence[i-1],sequence[i]]            \n",
    "    return prob\n",
    "        "
   ]
  },
  {
   "cell_type": "code",
   "execution_count": 151,
   "id": "8182e129",
   "metadata": {},
   "outputs": [
    {
     "data": {
      "text/plain": [
       "0.0184825375"
      ]
     },
     "execution_count": 151,
     "metadata": {},
     "output_type": "execute_result"
    }
   ],
   "source": [
    "get_proba([1,2,2,2,0],A,pi)"
   ]
  },
  {
   "cell_type": "code",
   "execution_count": null,
   "id": "114f5524",
   "metadata": {},
   "outputs": [],
   "source": []
  }
 ],
 "metadata": {
  "kernelspec": {
   "display_name": "Python 3",
   "language": "python",
   "name": "python3"
  },
  "language_info": {
   "codemirror_mode": {
    "name": "ipython",
    "version": 3
   },
   "file_extension": ".py",
   "mimetype": "text/x-python",
   "name": "python",
   "nbconvert_exporter": "python",
   "pygments_lexer": "ipython3",
   "version": "3.9.2"
  }
 },
 "nbformat": 4,
 "nbformat_minor": 5
}
