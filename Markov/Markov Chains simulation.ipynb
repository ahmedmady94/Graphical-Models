{
 "cells": [
  {
   "cell_type": "code",
   "execution_count": 3,
   "id": "a3ae6cb8",
   "metadata": {},
   "outputs": [],
   "source": [
    "import numpy as np\n",
    "import scipy.linalg as sp"
   ]
  },
  {
   "cell_type": "markdown",
   "id": "fa9a55aa",
   "metadata": {},
   "source": [
    "### Defining states and transition matrix"
   ]
  },
  {
   "cell_type": "code",
   "execution_count": 7,
   "id": "29dc29ca",
   "metadata": {},
   "outputs": [
    {
     "data": {
      "text/plain": [
       "{0: 'sunny', 1: 'cloudy', 2: 'rainy'}"
      ]
     },
     "execution_count": 7,
     "metadata": {},
     "output_type": "execute_result"
    }
   ],
   "source": [
    "state = {\n",
    "    0 : \"sunny\",\n",
    "    1 : \"cloudy\",\n",
    "    2 : \"rainy\"\n",
    "}\n",
    "state"
   ]
  },
  {
   "cell_type": "code",
   "execution_count": 8,
   "id": "671a06a4",
   "metadata": {},
   "outputs": [
    {
     "data": {
      "text/plain": [
       "array([[0.6, 0.3, 0.1],\n",
       "       [0.2, 0.3, 0.5],\n",
       "       [0.4, 0.1, 0.5]])"
      ]
     },
     "execution_count": 8,
     "metadata": {},
     "output_type": "execute_result"
    }
   ],
   "source": [
    "m = np.array([[0.6, 0.3, 0.1], [0.2, 0.3, 0.5], [0.4, 0.1, 0.5]])\n",
    "m"
   ]
  },
  {
   "cell_type": "markdown",
   "id": "25a683f8",
   "metadata": {},
   "source": [
    "<h1 style=\"color:gold\"> Weather Markov Chain </h1>\n",
    "\n",
    "<img src=\"weather.png\" width=\"570\" height=\"400\">"
   ]
  },
  {
   "cell_type": "markdown",
   "id": "84374e0f",
   "metadata": {},
   "source": [
    "### Simulating random walk"
   ]
  },
  {
   "cell_type": "code",
   "execution_count": 9,
   "id": "1cfa4c14",
   "metadata": {},
   "outputs": [],
   "source": [
    "def sim(current_state,m,n):\n",
    "    print(state[current_state],\"--->\",end=' ')\n",
    "    while n>1:\n",
    "        current_state= np.random.choice(list(state.keys()),p= m[current_state])\n",
    "        print(state[current_state],\"--->\",end=\" \")\n",
    "        n-=1\n",
    "    print(\"stop\")"
   ]
  },
  {
   "cell_type": "code",
   "execution_count": 10,
   "id": "8d1b9535",
   "metadata": {},
   "outputs": [
    {
     "name": "stdout",
     "output_type": "stream",
     "text": [
      "sunny ---> rainy ---> rainy ---> rainy ---> sunny ---> cloudy ---> rainy ---> rainy ---> rainy ---> sunny ---> sunny ---> cloudy ---> cloudy ---> sunny ---> sunny ---> sunny ---> cloudy ---> cloudy ---> rainy ---> sunny ---> stop\n"
     ]
    }
   ],
   "source": [
    "sim(0,m,20)"
   ]
  },
  {
   "cell_type": "markdown",
   "id": "f467fd28",
   "metadata": {},
   "source": [
    "### Getting stationary distribution (π) using Monte Carlo approach"
   ]
  },
  {
   "cell_type": "code",
   "execution_count": 11,
   "id": "a4690586",
   "metadata": {},
   "outputs": [],
   "source": [
    "def get_pi(current_state,m,n):\n",
    "    d={}\n",
    "    d[current_state]= d.get(current_state,0)+1\n",
    "    while n>1:\n",
    "        current_state= np.random.choice(list(state.keys()),p= m[current_state])\n",
    "        d[current_state]= d.get(current_state,0)+1\n",
    "        n-=1\n",
    "    return([i/sum(d.values()) for i in d.values()])"
   ]
  },
  {
   "cell_type": "code",
   "execution_count": 14,
   "id": "42b7a634",
   "metadata": {},
   "outputs": [],
   "source": [
    "pi= get_pi(0,m,10**6)"
   ]
  },
  {
   "cell_type": "code",
   "execution_count": 15,
   "id": "cef7a650",
   "metadata": {},
   "outputs": [
    {
     "data": {
      "text/plain": [
       "[0.440307, 0.235488, 0.324205]"
      ]
     },
     "execution_count": 15,
     "metadata": {},
     "output_type": "execute_result"
    }
   ],
   "source": [
    "pi"
   ]
  },
  {
   "cell_type": "markdown",
   "id": "be16132c",
   "metadata": {},
   "source": [
    "### Getting stationary distribution (π) using matrix multiplication"
   ]
  },
  {
   "cell_type": "code",
   "execution_count": 16,
   "id": "630a0669",
   "metadata": {},
   "outputs": [],
   "source": [
    "def get_pi(m,n):\n",
    "    while n>0:\n",
    "        m = m @ m\n",
    "        n-=1\n",
    "    print(m)"
   ]
  },
  {
   "cell_type": "code",
   "execution_count": 18,
   "id": "6de905bb",
   "metadata": {},
   "outputs": [
    {
     "name": "stdout",
     "output_type": "stream",
     "text": [
      "[[0.44117647 0.23529412 0.32352941]\n",
      " [0.44117647 0.23529412 0.32352941]\n",
      " [0.44117647 0.23529412 0.32352941]]\n"
     ]
    }
   ],
   "source": [
    "get_pi(m,5)"
   ]
  },
  {
   "cell_type": "markdown",
   "id": "35d847e1",
   "metadata": {},
   "source": [
    "### Getting stationary distribution (π) using left eigen vectors"
   ]
  },
  {
   "cell_type": "code",
   "execution_count": 19,
   "id": "c0ea27d1",
   "metadata": {},
   "outputs": [],
   "source": [
    "value,vector = sp.eig(m,right=False,left=True)"
   ]
  },
  {
   "cell_type": "code",
   "execution_count": 20,
   "id": "d2f944c4",
   "metadata": {},
   "outputs": [
    {
     "name": "stdout",
     "output_type": "stream",
     "text": [
      "[[ 0.7407972 +0.j         -0.35355339+0.35355339j -0.35355339-0.35355339j]\n",
      " [ 0.39509184+0.j         -0.35355339-0.35355339j -0.35355339+0.35355339j]\n",
      " [ 0.54325128+0.j          0.70710678+0.j          0.70710678-0.j        ]]\n"
     ]
    }
   ],
   "source": [
    "print(vector)"
   ]
  },
  {
   "cell_type": "code",
   "execution_count": 21,
   "id": "cc26d71a",
   "metadata": {},
   "outputs": [
    {
     "data": {
      "text/plain": [
       "array([0.7407972 +0.j, 0.39509184+0.j, 0.54325128+0.j])"
      ]
     },
     "execution_count": 21,
     "metadata": {},
     "output_type": "execute_result"
    }
   ],
   "source": [
    "left= vector[:,0]\n",
    "left"
   ]
  },
  {
   "cell_type": "code",
   "execution_count": 22,
   "id": "3a2e4a5a",
   "metadata": {},
   "outputs": [
    {
     "data": {
      "text/plain": [
       "[0.44117647058823506, 0.2352941176470589, 0.3235294117647061]"
      ]
     },
     "execution_count": 22,
     "metadata": {},
     "output_type": "execute_result"
    }
   ],
   "source": [
    "pi_normalized = [(i/sum(left)).real for i in left]\n",
    "pi_normalized"
   ]
  },
  {
   "cell_type": "markdown",
   "id": "f700f29d",
   "metadata": {},
   "source": [
    "### Getting the probability of specific sequence"
   ]
  },
  {
   "cell_type": "code",
   "execution_count": 23,
   "id": "a2fb9dac",
   "metadata": {},
   "outputs": [],
   "source": [
    "def get_proba(sequence,m,pi):\n",
    "    prob=pi[sequence[0]]\n",
    "    for i in range(1,len(sequence)):\n",
    "            prob = prob* m[sequence[i-1],sequence[i]]            \n",
    "    return prob\n",
    "        "
   ]
  },
  {
   "cell_type": "code",
   "execution_count": 24,
   "id": "8182e129",
   "metadata": {},
   "outputs": [
    {
     "data": {
      "text/plain": [
       "0.0117744"
      ]
     },
     "execution_count": 24,
     "metadata": {},
     "output_type": "execute_result"
    }
   ],
   "source": [
    "get_proba([1,2,2,2,0],m,pi)"
   ]
  }
 ],
 "metadata": {
  "kernelspec": {
   "display_name": "Python 3",
   "language": "python",
   "name": "python3"
  },
  "language_info": {
   "codemirror_mode": {
    "name": "ipython",
    "version": 3
   },
   "file_extension": ".py",
   "mimetype": "text/x-python",
   "name": "python",
   "nbconvert_exporter": "python",
   "pygments_lexer": "ipython3",
   "version": "3.9.2"
  }
 },
 "nbformat": 4,
 "nbformat_minor": 5
}
